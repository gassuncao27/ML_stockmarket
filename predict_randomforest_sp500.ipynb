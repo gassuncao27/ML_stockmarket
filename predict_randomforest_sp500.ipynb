{
 "cells": [
  {
   "cell_type": "code",
   "execution_count": 1,
   "metadata": {},
   "outputs": [],
   "source": [
    "import yfinance as yf\n",
    "from matplotlib import pyplot as plt"
   ]
  },
  {
   "cell_type": "code",
   "execution_count": 2,
   "metadata": {},
   "outputs": [
    {
     "data": {
      "text/plain": [
       "DatetimeIndex(['1927-12-30 00:00:00-05:00', '1928-01-03 00:00:00-05:00',\n",
       "               '1928-01-04 00:00:00-05:00', '1928-01-05 00:00:00-05:00',\n",
       "               '1928-01-06 00:00:00-05:00', '1928-01-09 00:00:00-05:00',\n",
       "               '1928-01-10 00:00:00-05:00', '1928-01-11 00:00:00-05:00',\n",
       "               '1928-01-12 00:00:00-05:00', '1928-01-13 00:00:00-05:00',\n",
       "               ...\n",
       "               '2023-11-13 00:00:00-05:00', '2023-11-14 00:00:00-05:00',\n",
       "               '2023-11-15 00:00:00-05:00', '2023-11-16 00:00:00-05:00',\n",
       "               '2023-11-17 00:00:00-05:00', '2023-11-20 00:00:00-05:00',\n",
       "               '2023-11-21 00:00:00-05:00', '2023-11-22 00:00:00-05:00',\n",
       "               '2023-11-24 00:00:00-05:00', '2023-11-27 00:00:00-05:00'],\n",
       "              dtype='datetime64[ns, America/New_York]', name='Date', length=24092, freq=None)"
      ]
     },
     "execution_count": 2,
     "metadata": {},
     "output_type": "execute_result"
    }
   ],
   "source": [
    "sp500 = yf.Ticker(\"^GSPC\")\n",
    "sp500 = sp500.history(period=\"max\")\n",
    "sp500.index"
   ]
  },
  {
   "cell_type": "code",
   "execution_count": 3,
   "metadata": {},
   "outputs": [
    {
     "data": {
      "text/plain": [
       "<Axes: xlabel='Date'>"
      ]
     },
     "execution_count": 3,
     "metadata": {},
     "output_type": "execute_result"
    },
    {
     "data": {
      "image/png": "[encoded data removed]",
      "text/plain": [
       "<Figure size 640x480 with 1 Axes>"
      ]
     },
     "metadata": {},
     "output_type": "display_data"
    }
   ],
   "source": [
    "sp500.plot.line(y=\"Close\", use_index=True)"
   ]
  },
  {
   "cell_type": "code",
   "execution_count": 4,
   "metadata": {},
   "outputs": [],
   "source": [
    "del sp500[\"Dividends\"]\n",
    "del sp500[\"Stock Splits\"]"
   ]
  },
  {
   "cell_type": "code",
   "execution_count": 5,
   "metadata": {},
   "outputs": [
    {
     "data": {
      "text/html": [
       "<div>\n",
       "<style scoped>\n",
       "    .dataframe tbody tr th:only-of-type {\n",
       "        vertical-align: middle;\n",
       "    }\n",
       "\n",
       "    .dataframe tbody tr th {\n",
       "        vertical-align: top;\n",
       "    }\n",
       "\n",
       "    .dataframe thead th {\n",
       "        text-align: right;\n",
       "    }\n",
       "</style>\n",
       "<table border=\"1\" class=\"dataframe\">\n",
       "  <thead>\n",
       "    <tr style=\"text-align: right;\">\n",
       "      <th></th>\n",
       "      <th>Open</th>\n",
       "      <th>High</th>\n",
       "      <th>Low</th>\n",
       "      <th>Close</th>\n",
       "      <th>Volume</th>\n",
       "      <th>Tomorrow</th>\n",
       "      <th>Target</th>\n",
       "    </tr>\n",
       "    <tr>\n",
       "      <th>Date</th>\n",
       "      <th></th>\n",
       "      <th></th>\n",
       "      <th></th>\n",
       "      <th></th>\n",
       "      <th></th>\n",
       "      <th></th>\n",
       "      <th></th>\n",
       "    </tr>\n",
       "  </thead>\n",
       "  <tbody>\n",
       "    <tr>\n",
       "      <th>2023-11-06 00:00:00-05:00</th>\n",
       "      <td>4364.270020</td>\n",
       "      <td>4372.209961</td>\n",
       "      <td>4347.529785</td>\n",
       "      <td>4365.979980</td>\n",
       "      <td>3656340000</td>\n",
       "      <td>4547.379883</td>\n",
       "      <td>1</td>\n",
       "    </tr>\n",
       "    <tr>\n",
       "      <th>2023-11-07 00:00:00-05:00</th>\n",
       "      <td>4366.209961</td>\n",
       "      <td>4386.259766</td>\n",
       "      <td>4355.410156</td>\n",
       "      <td>4378.379883</td>\n",
       "      <td>3791230000</td>\n",
       "      <td>4538.189941</td>\n",
       "      <td>1</td>\n",
       "    </tr>\n",
       "    <tr>\n",
       "      <th>2023-11-08 00:00:00-05:00</th>\n",
       "      <td>4384.370117</td>\n",
       "      <td>4391.200195</td>\n",
       "      <td>4359.759766</td>\n",
       "      <td>4382.779785</td>\n",
       "      <td>3729510000</td>\n",
       "      <td>4556.620117</td>\n",
       "      <td>1</td>\n",
       "    </tr>\n",
       "    <tr>\n",
       "      <th>2023-11-09 00:00:00-05:00</th>\n",
       "      <td>4391.410156</td>\n",
       "      <td>4393.399902</td>\n",
       "      <td>4343.939941</td>\n",
       "      <td>4347.350098</td>\n",
       "      <td>3900780000</td>\n",
       "      <td>4559.339844</td>\n",
       "      <td>1</td>\n",
       "    </tr>\n",
       "    <tr>\n",
       "      <th>2023-11-10 00:00:00-05:00</th>\n",
       "      <td>4364.149902</td>\n",
       "      <td>4418.029785</td>\n",
       "      <td>4353.339844</td>\n",
       "      <td>4415.240234</td>\n",
       "      <td>3665080000</td>\n",
       "      <td>4550.430176</td>\n",
       "      <td>1</td>\n",
       "    </tr>\n",
       "    <tr>\n",
       "      <th>2023-11-13 00:00:00-05:00</th>\n",
       "      <td>4406.660156</td>\n",
       "      <td>4421.759766</td>\n",
       "      <td>4393.819824</td>\n",
       "      <td>4411.549805</td>\n",
       "      <td>3326240000</td>\n",
       "      <td>NaN</td>\n",
       "      <td>0</td>\n",
       "    </tr>\n",
       "    <tr>\n",
       "      <th>2023-11-14 00:00:00-05:00</th>\n",
       "      <td>4458.970215</td>\n",
       "      <td>4508.669922</td>\n",
       "      <td>4458.970215</td>\n",
       "      <td>4495.700195</td>\n",
       "      <td>4700350000</td>\n",
       "      <td>NaN</td>\n",
       "      <td>0</td>\n",
       "    </tr>\n",
       "    <tr>\n",
       "      <th>2023-11-15 00:00:00-05:00</th>\n",
       "      <td>4505.299805</td>\n",
       "      <td>4521.169922</td>\n",
       "      <td>4495.310059</td>\n",
       "      <td>4502.879883</td>\n",
       "      <td>4347170000</td>\n",
       "      <td>NaN</td>\n",
       "      <td>0</td>\n",
       "    </tr>\n",
       "    <tr>\n",
       "      <th>2023-11-16 00:00:00-05:00</th>\n",
       "      <td>4497.080078</td>\n",
       "      <td>4511.990234</td>\n",
       "      <td>4487.830078</td>\n",
       "      <td>4508.240234</td>\n",
       "      <td>3964520000</td>\n",
       "      <td>NaN</td>\n",
       "      <td>0</td>\n",
       "    </tr>\n",
       "    <tr>\n",
       "      <th>2023-11-17 00:00:00-05:00</th>\n",
       "      <td>4509.549805</td>\n",
       "      <td>4520.120117</td>\n",
       "      <td>4499.660156</td>\n",
       "      <td>4514.020020</td>\n",
       "      <td>3777240000</td>\n",
       "      <td>NaN</td>\n",
       "      <td>0</td>\n",
       "    </tr>\n",
       "    <tr>\n",
       "      <th>2023-11-20 00:00:00-05:00</th>\n",
       "      <td>4511.700195</td>\n",
       "      <td>4557.109863</td>\n",
       "      <td>4510.359863</td>\n",
       "      <td>4547.379883</td>\n",
       "      <td>3644790000</td>\n",
       "      <td>NaN</td>\n",
       "      <td>0</td>\n",
       "    </tr>\n",
       "    <tr>\n",
       "      <th>2023-11-21 00:00:00-05:00</th>\n",
       "      <td>4538.770020</td>\n",
       "      <td>4542.140137</td>\n",
       "      <td>4525.509766</td>\n",
       "      <td>4538.189941</td>\n",
       "      <td>3511080000</td>\n",
       "      <td>NaN</td>\n",
       "      <td>0</td>\n",
       "    </tr>\n",
       "    <tr>\n",
       "      <th>2023-11-22 00:00:00-05:00</th>\n",
       "      <td>4553.040039</td>\n",
       "      <td>4568.430176</td>\n",
       "      <td>4545.049805</td>\n",
       "      <td>4556.620117</td>\n",
       "      <td>3042810000</td>\n",
       "      <td>NaN</td>\n",
       "      <td>0</td>\n",
       "    </tr>\n",
       "    <tr>\n",
       "      <th>2023-11-24 00:00:00-05:00</th>\n",
       "      <td>4555.839844</td>\n",
       "      <td>4560.310059</td>\n",
       "      <td>4552.799805</td>\n",
       "      <td>4559.339844</td>\n",
       "      <td>1639500000</td>\n",
       "      <td>NaN</td>\n",
       "      <td>0</td>\n",
       "    </tr>\n",
       "    <tr>\n",
       "      <th>2023-11-27 00:00:00-05:00</th>\n",
       "      <td>4554.859863</td>\n",
       "      <td>4560.520020</td>\n",
       "      <td>4546.319824</td>\n",
       "      <td>4550.430176</td>\n",
       "      <td>1995804000</td>\n",
       "      <td>NaN</td>\n",
       "      <td>0</td>\n",
       "    </tr>\n",
       "  </tbody>\n",
       "</table>\n",
       "</div>"
      ],
      "text/plain": [
       "                                  Open         High          Low        Close  \\\n",
       "Date                                                                            \n",
       "2023-11-06 00:00:00-05:00  4364.270020  4372.209961  4347.529785  4365.979980   \n",
       "2023-11-07 00:00:00-05:00  4366.209961  4386.259766  4355.410156  4378.379883   \n",
       "2023-11-08 00:00:00-05:00  4384.370117  4391.200195  4359.759766  4382.779785   \n",
       "2023-11-09 00:00:00-05:00  4391.410156  4393.399902  4343.939941  4347.350098   \n",
       "2023-11-10 00:00:00-05:00  4364.149902  4418.029785  4353.339844  4415.240234   \n",
       "2023-11-13 00:00:00-05:00  4406.660156  4421.759766  4393.819824  4411.549805   \n",
       "2023-11-14 00:00:00-05:00  4458.970215  4508.669922  4458.970215  4495.700195   \n",
       "2023-11-15 00:00:00-05:00  4505.299805  4521.169922  4495.310059  4502.879883   \n",
       "2023-11-16 00:00:00-05:00  4497.080078  4511.990234  4487.830078  4508.240234   \n",
       "2023-11-17 00:00:00-05:00  4509.549805  4520.120117  4499.660156  4514.020020   \n",
       "2023-11-20 00:00:00-05:00  4511.700195  4557.109863  4510.359863  4547.379883   \n",
       "2023-11-21 00:00:00-05:00  4538.770020  4542.140137  4525.509766  4538.189941   \n",
       "2023-11-22 00:00:00-05:00  4553.040039  4568.430176  4545.049805  4556.620117   \n",
       "2023-11-24 00:00:00-05:00  4555.839844  4560.310059  4552.799805  4559.339844   \n",
       "2023-11-27 00:00:00-05:00  4554.859863  4560.520020  4546.319824  4550.430176   \n",
       "\n",
       "                               Volume     Tomorrow  Target  \n",
       "Date                                                        \n",
       "2023-11-06 00:00:00-05:00  3656340000  4547.379883       1  \n",
       "2023-11-07 00:00:00-05:00  3791230000  4538.189941       1  \n",
       "2023-11-08 00:00:00-05:00  3729510000  4556.620117       1  \n",
       "2023-11-09 00:00:00-05:00  3900780000  4559.339844       1  \n",
       "2023-11-10 00:00:00-05:00  3665080000  4550.430176       1  \n",
       "2023-11-13 00:00:00-05:00  3326240000          NaN       0  \n",
       "2023-11-14 00:00:00-05:00  4700350000          NaN       0  \n",
       "2023-11-15 00:00:00-05:00  4347170000          NaN       0  \n",
       "2023-11-16 00:00:00-05:00  3964520000          NaN       0  \n",
       "2023-11-17 00:00:00-05:00  3777240000          NaN       0  \n",
       "2023-11-20 00:00:00-05:00  3644790000          NaN       0  \n",
       "2023-11-21 00:00:00-05:00  3511080000          NaN       0  \n",
       "2023-11-22 00:00:00-05:00  3042810000          NaN       0  \n",
       "2023-11-24 00:00:00-05:00  1639500000          NaN       0  \n",
       "2023-11-27 00:00:00-05:00  1995804000          NaN       0  "
      ]
     },
     "execution_count": 5,
     "metadata": {},
     "output_type": "execute_result"
    }
   ],
   "source": [
    "# set up target\n",
    "sp500[\"Tomorrow\"] = sp500[\"Close\"].shift(-10)\n",
    "sp500[\"Target\"] = (sp500[\"Tomorrow\"] > sp500[\"Close\"]).astype(int)\n",
    "sp500.tail(15)"
   ]
  },
  {
   "cell_type": "code",
   "execution_count": 6,
   "metadata": {},
   "outputs": [
    {
     "name": "stdout",
     "output_type": "stream",
     "text": [
      "<class 'pandas.core.frame.DataFrame'>\n",
      "DatetimeIndex: 8542 entries, 1990-01-02 00:00:00-05:00 to 2023-11-27 00:00:00-05:00\n",
      "Data columns (total 7 columns):\n",
      " #   Column    Non-Null Count  Dtype  \n",
      "---  ------    --------------  -----  \n",
      " 0   Open      8542 non-null   float64\n",
      " 1   High      8542 non-null   float64\n",
      " 2   Low       8542 non-null   float64\n",
      " 3   Close     8542 non-null   float64\n",
      " 4   Volume    8542 non-null   int64  \n",
      " 5   Tomorrow  8532 non-null   float64\n",
      " 6   Target    8542 non-null   int64  \n",
      "dtypes: float64(5), int64(2)\n",
      "memory usage: 533.9 KB\n"
     ]
    }
   ],
   "source": [
    "sp500 = sp500.loc[\"1990-01-01\":].copy()\n",
    "sp500.info()"
   ]
  },
  {
   "cell_type": "code",
   "execution_count": 7,
   "metadata": {},
   "outputs": [
    {
     "data": {
      "text/html": [
       "<style>#sk-container-id-1 {color: black;}#sk-container-id-1 pre{padding: 0;}#sk-container-id-1 div.sk-toggleable {background-color: white;}#sk-container-id-1 label.sk-toggleable__label {cursor: pointer;display: block;width: 100%;margin-bottom: 0;padding: 0.3em;box-sizing: border-box;text-align: center;}#sk-container-id-1 label.sk-toggleable__label-arrow:before {content: \"▸\";float: left;margin-right: 0.25em;color: #696969;}#sk-container-id-1 label.sk-toggleable__label-arrow:hover:before {color: black;}#sk-container-id-1 div.sk-estimator:hover label.sk-toggleable__label-arrow:before {color: black;}#sk-container-id-1 div.sk-toggleable__content {max-height: 0;max-width: 0;overflow: hidden;text-align: left;background-color: #f0f8ff;}#sk-container-id-1 div.sk-toggleable__content pre {margin: 0.2em;color: black;border-radius: 0.25em;background-color: #f0f8ff;}#sk-container-id-1 input.sk-toggleable__control:checked~div.sk-toggleable__content {max-height: 200px;max-width: 100%;overflow: auto;}#sk-container-id-1 input.sk-toggleable__control:checked~label.sk-toggleable__label-arrow:before {content: \"▾\";}#sk-container-id-1 div.sk-estimator input.sk-toggleable__control:checked~label.sk-toggleable__label {background-color: #d4ebff;}#sk-container-id-1 div.sk-label input.sk-toggleable__control:checked~label.sk-toggleable__label {background-color: #d4ebff;}#sk-container-id-1 input.sk-hidden--visually {border: 0;clip: rect(1px 1px 1px 1px);clip: rect(1px, 1px, 1px, 1px);height: 1px;margin: -1px;overflow: hidden;padding: 0;position: absolute;width: 1px;}#sk-container-id-1 div.sk-estimator {font-family: monospace;background-color: #f0f8ff;border: 1px dotted black;border-radius: 0.25em;box-sizing: border-box;margin-bottom: 0.5em;}#sk-container-id-1 div.sk-estimator:hover {background-color: #d4ebff;}#sk-container-id-1 div.sk-parallel-item::after {content: \"\";width: 100%;border-bottom: 1px solid gray;flex-grow: 1;}#sk-container-id-1 div.sk-label:hover label.sk-toggleable__label {background-color: #d4ebff;}#sk-container-id-1 div.sk-serial::before {content: \"\";position: absolute;border-left: 1px solid gray;box-sizing: border-box;top: 0;bottom: 0;left: 50%;z-index: 0;}#sk-container-id-1 div.sk-serial {display: flex;flex-direction: column;align-items: center;background-color: white;padding-right: 0.2em;padding-left: 0.2em;position: relative;}#sk-container-id-1 div.sk-item {position: relative;z-index: 1;}#sk-container-id-1 div.sk-parallel {display: flex;align-items: stretch;justify-content: center;background-color: white;position: relative;}#sk-container-id-1 div.sk-item::before, #sk-container-id-1 div.sk-parallel-item::before {content: \"\";position: absolute;border-left: 1px solid gray;box-sizing: border-box;top: 0;bottom: 0;left: 50%;z-index: -1;}#sk-container-id-1 div.sk-parallel-item {display: flex;flex-direction: column;z-index: 1;position: relative;background-color: white;}#sk-container-id-1 div.sk-parallel-item:first-child::after {align-self: flex-end;width: 50%;}#sk-container-id-1 div.sk-parallel-item:last-child::after {align-self: flex-start;width: 50%;}#sk-container-id-1 div.sk-parallel-item:only-child::after {width: 0;}#sk-container-id-1 div.sk-dashed-wrapped {border: 1px dashed gray;margin: 0 0.4em 0.5em 0.4em;box-sizing: border-box;padding-bottom: 0.4em;background-color: white;}#sk-container-id-1 div.sk-label label {font-family: monospace;font-weight: bold;display: inline-block;line-height: 1.2em;}#sk-container-id-1 div.sk-label-container {text-align: center;}#sk-container-id-1 div.sk-container {/* jupyter's `normalize.less` sets `[hidden] { display: none; }` but bootstrap.min.css set `[hidden] { display: none !important; }` so we also need the `!important` here to be able to override the default hidden behavior on the sphinx rendered scikit-learn.org. See: https://github.com/scikit-learn/scikit-learn/issues/21755 */display: inline-block !important;position: relative;}#sk-container-id-1 div.sk-text-repr-fallback {display: none;}</style><div id=\"sk-container-id-1\" class=\"sk-top-container\"><div class=\"sk-text-repr-fallback\"><pre>RandomForestClassifier(min_samples_split=100, random_state=1)</pre><b>In a Jupyter environment, please rerun this cell to show the HTML representation or trust the notebook. <br />On GitHub, the HTML representation is unable to render, please try loading this page with nbviewer.org.</b></div><div class=\"sk-container\" hidden><div class=\"sk-item\"><div class=\"sk-estimator sk-toggleable\"><input class=\"sk-toggleable__control sk-hidden--visually\" id=\"sk-estimator-id-1\" type=\"checkbox\" checked><label for=\"sk-estimator-id-1\" class=\"sk-toggleable__label sk-toggleable__label-arrow\">RandomForestClassifier</label><div class=\"sk-toggleable__content\"><pre>RandomForestClassifier(min_samples_split=100, random_state=1)</pre></div></div></div></div></div>"
      ],
      "text/plain": [
       "RandomForestClassifier(min_samples_split=100, random_state=1)"
      ]
     },
     "execution_count": 7,
     "metadata": {},
     "output_type": "execute_result"
    }
   ],
   "source": [
    "from sklearn.ensemble import RandomForestClassifier\n",
    "\n",
    "model = RandomForestClassifier(n_estimators=100, min_samples_split=100, random_state=1)\n",
    "\n",
    "# not use cross validation / split train and test\n",
    "train = sp500.iloc[:-100]\n",
    "test = sp500.iloc[-100:]\n",
    "\n",
    "predictors = [\"Close\", \"Volume\", \"Open\", \"High\", \"Low\"]\n",
    "model.fit(train[predictors], train[\"Target\"])"
   ]
  },
  {
   "cell_type": "code",
   "execution_count": 8,
   "metadata": {},
   "outputs": [],
   "source": [
    "from sklearn.metrics import precision_score\n",
    "\n",
    "preds = model.predict(test[predictors])"
   ]
  },
  {
   "cell_type": "code",
   "execution_count": 9,
   "metadata": {},
   "outputs": [
    {
     "name": "stdout",
     "output_type": "stream",
     "text": [
      "0.66\n",
      "Date\n",
      "2023-07-07 00:00:00-04:00    1\n",
      "2023-07-10 00:00:00-04:00    1\n",
      "2023-07-11 00:00:00-04:00    1\n",
      "2023-07-12 00:00:00-04:00    0\n",
      "2023-07-13 00:00:00-04:00    0\n",
      "dtype: int64\n"
     ]
    }
   ],
   "source": [
    "import pandas as pd\n",
    "\n",
    "preds = pd.Series(preds, index=test.index)\n",
    "print(precision_score(test[\"Target\"], preds))\n",
    "print(preds.head(5))"
   ]
  },
  {
   "cell_type": "code",
   "execution_count": 10,
   "metadata": {},
   "outputs": [
    {
     "data": {
      "text/plain": [
       "<Axes: xlabel='Date'>"
      ]
     },
     "execution_count": 10,
     "metadata": {},
     "output_type": "execute_result"
    },
    {
     "data": {
      "image/png": "[encoded data removed]",
      "text/plain": [
       "<Figure size 640x480 with 1 Axes>"
      ]
     },
     "metadata": {},
     "output_type": "display_data"
    }
   ],
   "source": [
    "combined = pd.concat([test[\"Target\"], preds], axis=1)\n",
    "combined.plot()"
   ]
  },
  {
   "cell_type": "code",
   "execution_count": 11,
   "metadata": {},
   "outputs": [],
   "source": [
    "def predict(train, test, predictors, model):\n",
    "    model.fit(train[predictors], train[\"Target\"])\n",
    "    preds = model.predict(test[predictors])\n",
    "    preds = pd.Series(preds, index=test.index, name=\"Predictions\")\n",
    "    combined = pd.concat([test[\"Target\"], preds], axis=1)\n",
    "    return combined"
   ]
  },
  {
   "cell_type": "code",
   "execution_count": 12,
   "metadata": {},
   "outputs": [],
   "source": [
    "def backtest(data, model, predictor, start=2500, step=250):\n",
    "    all_predictions = []\n",
    "\n",
    "    for i in range(start, data.shape[0], step):\n",
    "        train = data.iloc[0:i].copy()\n",
    "        test = data.iloc[i:(i+step)].copy()\n",
    "        predictions = predict(train, test, predictors, model)\n",
    "        all_predictions.append(predictions)\n",
    "    return pd.concat(all_predictions)"
   ]
  },
  {
   "cell_type": "code",
   "execution_count": 13,
   "metadata": {},
   "outputs": [],
   "source": [
    "predictions = backtest(sp500, model, predictors)"
   ]
  },
  {
   "cell_type": "code",
   "execution_count": 14,
   "metadata": {},
   "outputs": [
    {
     "data": {
      "text/plain": [
       "Predictions\n",
       "0    3316\n",
       "1    2726\n",
       "Name: count, dtype: int64"
      ]
     },
     "execution_count": 14,
     "metadata": {},
     "output_type": "execute_result"
    }
   ],
   "source": [
    "predictions[\"Predictions\"].value_counts()"
   ]
  },
  {
   "cell_type": "code",
   "execution_count": 15,
   "metadata": {},
   "outputs": [
    {
     "data": {
      "text/plain": [
       "0.5895084372707263"
      ]
     },
     "execution_count": 15,
     "metadata": {},
     "output_type": "execute_result"
    }
   ],
   "source": [
    "precision_score(predictions[\"Target\"], predictions[\"Predictions\"])"
   ]
  },
  {
   "cell_type": "code",
   "execution_count": 16,
   "metadata": {},
   "outputs": [
    {
     "data": {
      "text/plain": [
       "Target\n",
       "1    0.590036\n",
       "0    0.409964\n",
       "Name: count, dtype: float64"
      ]
     },
     "execution_count": 16,
     "metadata": {},
     "output_type": "execute_result"
    }
   ],
   "source": [
    "predictions[\"Target\"].value_counts() / predictions.shape[0]"
   ]
  },
  {
   "cell_type": "code",
   "execution_count": 17,
   "metadata": {},
   "outputs": [],
   "source": [
    "horizons = [2, 5, 60, 250, 1000]\n",
    "new_predictors = []\n",
    "\n",
    "for horizon in horizons:\n",
    "    rolling_averages = sp500.rolling(horizon).mean()\n",
    "\n",
    "    ratio_column = f\"Close_ratio{horizon}\"\n",
    "    sp500[ratio_column] = sp500[\"Close\"] / rolling_averages[\"Close\"]\n",
    "\n",
    "    trend_column = f\"Trend_{horizon}\"\n",
    "    sp500[trend_column] = sp500.shift(1).rolling(horizon).sum()[\"Target\"]\n",
    "\n",
    "    new_predictors += [ratio_column, trend_column]"
   ]
  },
  {
   "cell_type": "code",
   "execution_count": 18,
   "metadata": {},
   "outputs": [
    {
     "data": {
      "text/html": [
       "<div>\n",
       "<style scoped>\n",
       "    .dataframe tbody tr th:only-of-type {\n",
       "        vertical-align: middle;\n",
       "    }\n",
       "\n",
       "    .dataframe tbody tr th {\n",
       "        vertical-align: top;\n",
       "    }\n",
       "\n",
       "    .dataframe thead th {\n",
       "        text-align: right;\n",
       "    }\n",
       "</style>\n",
       "<table border=\"1\" class=\"dataframe\">\n",
       "  <thead>\n",
       "    <tr style=\"text-align: right;\">\n",
       "      <th></th>\n",
       "      <th>Open</th>\n",
       "      <th>High</th>\n",
       "      <th>Low</th>\n",
       "      <th>Close</th>\n",
       "      <th>Volume</th>\n",
       "      <th>Tomorrow</th>\n",
       "      <th>Target</th>\n",
       "      <th>Close_ratio2</th>\n",
       "      <th>Trend_2</th>\n",
       "      <th>Close_ratio5</th>\n",
       "      <th>Trend_5</th>\n",
       "      <th>Close_ratio60</th>\n",
       "      <th>Trend_60</th>\n",
       "      <th>Close_ratio250</th>\n",
       "      <th>Trend_250</th>\n",
       "      <th>Close_ratio1000</th>\n",
       "      <th>Trend_1000</th>\n",
       "    </tr>\n",
       "    <tr>\n",
       "      <th>Date</th>\n",
       "      <th></th>\n",
       "      <th></th>\n",
       "      <th></th>\n",
       "      <th></th>\n",
       "      <th></th>\n",
       "      <th></th>\n",
       "      <th></th>\n",
       "      <th></th>\n",
       "      <th></th>\n",
       "      <th></th>\n",
       "      <th></th>\n",
       "      <th></th>\n",
       "      <th></th>\n",
       "      <th></th>\n",
       "      <th></th>\n",
       "      <th></th>\n",
       "      <th></th>\n",
       "    </tr>\n",
       "  </thead>\n",
       "  <tbody>\n",
       "    <tr>\n",
       "      <th>1993-12-14 00:00:00-05:00</th>\n",
       "      <td>465.730011</td>\n",
       "      <td>466.119995</td>\n",
       "      <td>462.459991</td>\n",
       "      <td>463.059998</td>\n",
       "      <td>275050000</td>\n",
       "      <td>470.579987</td>\n",
       "      <td>1</td>\n",
       "      <td>0.997157</td>\n",
       "      <td>2.0</td>\n",
       "      <td>0.996617</td>\n",
       "      <td>4.0</td>\n",
       "      <td>1.000283</td>\n",
       "      <td>38.0</td>\n",
       "      <td>1.028047</td>\n",
       "      <td>144.0</td>\n",
       "      <td>1.176082</td>\n",
       "      <td>570.0</td>\n",
       "    </tr>\n",
       "    <tr>\n",
       "      <th>1993-12-15 00:00:00-05:00</th>\n",
       "      <td>463.059998</td>\n",
       "      <td>463.690002</td>\n",
       "      <td>461.839996</td>\n",
       "      <td>461.839996</td>\n",
       "      <td>331770000</td>\n",
       "      <td>468.640015</td>\n",
       "      <td>1</td>\n",
       "      <td>0.998681</td>\n",
       "      <td>2.0</td>\n",
       "      <td>0.995899</td>\n",
       "      <td>5.0</td>\n",
       "      <td>0.997329</td>\n",
       "      <td>38.0</td>\n",
       "      <td>1.025151</td>\n",
       "      <td>145.0</td>\n",
       "      <td>1.172676</td>\n",
       "      <td>571.0</td>\n",
       "    </tr>\n",
       "    <tr>\n",
       "      <th>1993-12-16 00:00:00-05:00</th>\n",
       "      <td>461.859985</td>\n",
       "      <td>463.980011</td>\n",
       "      <td>461.859985</td>\n",
       "      <td>463.339996</td>\n",
       "      <td>284620000</td>\n",
       "      <td>466.450012</td>\n",
       "      <td>1</td>\n",
       "      <td>1.001621</td>\n",
       "      <td>2.0</td>\n",
       "      <td>0.999495</td>\n",
       "      <td>5.0</td>\n",
       "      <td>1.000311</td>\n",
       "      <td>38.0</td>\n",
       "      <td>1.028274</td>\n",
       "      <td>146.0</td>\n",
       "      <td>1.176163</td>\n",
       "      <td>572.0</td>\n",
       "    </tr>\n",
       "    <tr>\n",
       "      <th>1993-12-17 00:00:00-05:00</th>\n",
       "      <td>463.339996</td>\n",
       "      <td>466.380005</td>\n",
       "      <td>463.339996</td>\n",
       "      <td>466.380005</td>\n",
       "      <td>363750000</td>\n",
       "      <td>465.440002</td>\n",
       "      <td>0</td>\n",
       "      <td>1.003270</td>\n",
       "      <td>2.0</td>\n",
       "      <td>1.004991</td>\n",
       "      <td>5.0</td>\n",
       "      <td>1.006561</td>\n",
       "      <td>38.0</td>\n",
       "      <td>1.034781</td>\n",
       "      <td>147.0</td>\n",
       "      <td>1.183537</td>\n",
       "      <td>573.0</td>\n",
       "    </tr>\n",
       "    <tr>\n",
       "      <th>1993-12-20 00:00:00-05:00</th>\n",
       "      <td>466.380005</td>\n",
       "      <td>466.899994</td>\n",
       "      <td>465.529999</td>\n",
       "      <td>465.850006</td>\n",
       "      <td>255900000</td>\n",
       "      <td>466.890015</td>\n",
       "      <td>1</td>\n",
       "      <td>0.999431</td>\n",
       "      <td>1.0</td>\n",
       "      <td>1.003784</td>\n",
       "      <td>4.0</td>\n",
       "      <td>1.005120</td>\n",
       "      <td>37.0</td>\n",
       "      <td>1.033359</td>\n",
       "      <td>147.0</td>\n",
       "      <td>1.181856</td>\n",
       "      <td>573.0</td>\n",
       "    </tr>\n",
       "  </tbody>\n",
       "</table>\n",
       "</div>"
      ],
      "text/plain": [
       "                                 Open        High         Low       Close  \\\n",
       "Date                                                                        \n",
       "1993-12-14 00:00:00-05:00  465.730011  466.119995  462.459991  463.059998   \n",
       "1993-12-15 00:00:00-05:00  463.059998  463.690002  461.839996  461.839996   \n",
       "1993-12-16 00:00:00-05:00  461.859985  463.980011  461.859985  463.339996   \n",
       "1993-12-17 00:00:00-05:00  463.339996  466.380005  463.339996  466.380005   \n",
       "1993-12-20 00:00:00-05:00  466.380005  466.899994  465.529999  465.850006   \n",
       "\n",
       "                              Volume    Tomorrow  Target  Close_ratio2  \\\n",
       "Date                                                                     \n",
       "1993-12-14 00:00:00-05:00  275050000  470.579987       1      0.997157   \n",
       "1993-12-15 00:00:00-05:00  331770000  468.640015       1      0.998681   \n",
       "1993-12-16 00:00:00-05:00  284620000  466.450012       1      1.001621   \n",
       "1993-12-17 00:00:00-05:00  363750000  465.440002       0      1.003270   \n",
       "1993-12-20 00:00:00-05:00  255900000  466.890015       1      0.999431   \n",
       "\n",
       "                           Trend_2  Close_ratio5  Trend_5  Close_ratio60  \\\n",
       "Date                                                                       \n",
       "1993-12-14 00:00:00-05:00      2.0      0.996617      4.0       1.000283   \n",
       "1993-12-15 00:00:00-05:00      2.0      0.995899      5.0       0.997329   \n",
       "1993-12-16 00:00:00-05:00      2.0      0.999495      5.0       1.000311   \n",
       "1993-12-17 00:00:00-05:00      2.0      1.004991      5.0       1.006561   \n",
       "1993-12-20 00:00:00-05:00      1.0      1.003784      4.0       1.005120   \n",
       "\n",
       "                           Trend_60  Close_ratio250  Trend_250  \\\n",
       "Date                                                             \n",
       "1993-12-14 00:00:00-05:00      38.0        1.028047      144.0   \n",
       "1993-12-15 00:00:00-05:00      38.0        1.025151      145.0   \n",
       "1993-12-16 00:00:00-05:00      38.0        1.028274      146.0   \n",
       "1993-12-17 00:00:00-05:00      38.0        1.034781      147.0   \n",
       "1993-12-20 00:00:00-05:00      37.0        1.033359      147.0   \n",
       "\n",
       "                           Close_ratio1000  Trend_1000  \n",
       "Date                                                    \n",
       "1993-12-14 00:00:00-05:00         1.176082       570.0  \n",
       "1993-12-15 00:00:00-05:00         1.172676       571.0  \n",
       "1993-12-16 00:00:00-05:00         1.176163       572.0  \n",
       "1993-12-17 00:00:00-05:00         1.183537       573.0  \n",
       "1993-12-20 00:00:00-05:00         1.181856       573.0  "
      ]
     },
     "execution_count": 18,
     "metadata": {},
     "output_type": "execute_result"
    }
   ],
   "source": [
    "sp500 = sp500.dropna()\n",
    "sp500.head()"
   ]
  },
  {
   "cell_type": "code",
   "execution_count": 19,
   "metadata": {},
   "outputs": [],
   "source": [
    "model = RandomForestClassifier(n_estimators=200, min_samples_split=50, random_state=1)"
   ]
  },
  {
   "cell_type": "code",
   "execution_count": 20,
   "metadata": {},
   "outputs": [],
   "source": [
    "def predict(train, test, predictors, model):\n",
    "    model.fit(train[predictors], train[\"Target\"])\n",
    "    preds = model.predict_proba(test[predictors])[:,1]\n",
    "    preds[preds >= .5] = 1\n",
    "    preds[preds < .5] = 0\n",
    "    preds = pd.Series(preds, index=test.index, name=\"Predictions\")\n",
    "    combined = pd.concat([test[\"Target\"], preds], axis=1)\n",
    "    return combined"
   ]
  },
  {
   "cell_type": "code",
   "execution_count": 21,
   "metadata": {},
   "outputs": [],
   "source": [
    "predictions = backtest(sp500, model, new_predictors)"
   ]
  },
  {
   "cell_type": "code",
   "execution_count": 22,
   "metadata": {},
   "outputs": [
    {
     "data": {
      "text/plain": [
       "Predictions\n",
       "0.0    2944\n",
       "1.0    2088\n",
       "Name: count, dtype: int64"
      ]
     },
     "execution_count": 22,
     "metadata": {},
     "output_type": "execute_result"
    }
   ],
   "source": [
    "predictions[\"Predictions\"].value_counts()"
   ]
  },
  {
   "cell_type": "code",
   "execution_count": 23,
   "metadata": {},
   "outputs": [
    {
     "data": {
      "text/plain": [
       "0.639367816091954"
      ]
     },
     "execution_count": 23,
     "metadata": {},
     "output_type": "execute_result"
    }
   ],
   "source": [
    "precision_score(predictions[\"Target\"], predictions[\"Predictions\"])"
   ]
  },
  {
   "cell_type": "code",
   "execution_count": null,
   "metadata": {},
   "outputs": [],
   "source": []
  }
 ],
 "metadata": {
  "kernelspec": {
   "display_name": ".venv",
   "language": "python",
   "name": "python3"
  },
  "language_info": {
   "codemirror_mode": {
    "name": "ipython",
    "version": 3
   },
   "file_extension": ".py",
   "mimetype": "text/x-python",
   "name": "python",
   "nbconvert_exporter": "python",
   "pygments_lexer": "ipython3",
   "version": "3.11.1"
  }
 },
 "nbformat": 4,
 "nbformat_minor": 2
}
