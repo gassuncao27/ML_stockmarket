{
 "cells": [
  {
   "cell_type": "code",
   "execution_count": 1,
   "metadata": {},
   "outputs": [],
   "source": [
    "import yfinance as yf\n",
    "from matplotlib import pyplot as plt\n",
    "import pandas as pd\n",
    "import numpy as np"
   ]
  },
  {
   "cell_type": "code",
   "execution_count": 2,
   "metadata": {},
   "outputs": [
    {
     "name": "stdout",
     "output_type": "stream",
     "text": [
      "<class 'pandas.core.frame.DataFrame'>\n",
      "DatetimeIndex: 7444 entries, 1994-05-09 00:00:00-04:00 to 2023-11-29 00:00:00-05:00\n",
      "Data columns (total 17 columns):\n",
      " #   Column       Non-Null Count  Dtype  \n",
      "---  ------       --------------  -----  \n",
      " 0   Open         7444 non-null   float64\n",
      " 1   High         7444 non-null   float64\n",
      " 2   Low          7444 non-null   float64\n",
      " 3   Close        7444 non-null   float64\n",
      " 4   Volume       7444 non-null   int64  \n",
      " 5   Tomorrow     7434 non-null   float64\n",
      " 6   Target       7444 non-null   int64  \n",
      " 7   2dreturn     7444 non-null   float64\n",
      " 8   2dspread     7444 non-null   float64\n",
      " 9   5dreturn     7444 non-null   float64\n",
      " 10  5dspread     7444 non-null   float64\n",
      " 11  60dreturn    7444 non-null   float64\n",
      " 12  60dspread    7444 non-null   float64\n",
      " 13  250dreturn   7444 non-null   float64\n",
      " 14  250dspread   7444 non-null   float64\n",
      " 15  1000dreturn  7444 non-null   float64\n",
      " 16  1000dspread  7444 non-null   float64\n",
      "dtypes: float64(15), int64(2)\n",
      "memory usage: 1.0 MB\n"
     ]
    }
   ],
   "source": [
    "sp500 = yf.Ticker(\"^GSPC\")\n",
    "sp500 = sp500.history(period=\"max\")\n",
    "sp500.index\n",
    "\n",
    "del sp500[\"Dividends\"]\n",
    "del sp500[\"Stock Splits\"]\n",
    "\n",
    "# set up target\n",
    "sp500[\"Tomorrow\"] = sp500[\"Close\"].shift(-10)\n",
    "sp500[\"Target\"] = (sp500[\"Tomorrow\"] > sp500[\"Close\"]).astype(int)\n",
    "\n",
    "# set up indicators\n",
    "sp500[\"2dreturn\"] = sp500['Close'] / sp500[\"Close\"].shift(2) - 1\n",
    "sp500[\"2dspread\"] = sp500['Close'] / sp500[\"Close\"].rolling(2).mean() - 1 \n",
    "sp500[\"5dreturn\"] = sp500['Close'] / sp500[\"Close\"].shift(5) - 1\n",
    "sp500[\"5dspread\"] = sp500['Close'] / sp500[\"Close\"].rolling(5).mean() - 1  \n",
    "sp500[\"60dreturn\"] = sp500['Close'] / sp500[\"Close\"].shift(60) - 1\n",
    "sp500[\"60dspread\"] = sp500['Close'] / sp500[\"Close\"].rolling(60).mean() - 1 \n",
    "sp500[\"250dreturn\"] = sp500['Close'] / sp500[\"Close\"].shift(250) - 1\n",
    "sp500[\"250dspread\"] = sp500['Close'] / sp500[\"Close\"].rolling(250).mean() - 1 \n",
    "sp500[\"1000dreturn\"] = sp500['Close'] / sp500[\"Close\"].shift(1000) - 1\n",
    "sp500[\"1000dspread\"] = sp500['Close'] / sp500[\"Close\"].rolling(1000).mean() - 1 \n",
    "\n",
    "\n",
    "sp500 = sp500.loc[\"1990-01-01\":].copy()\n",
    "sp500 = sp500.iloc[1100:]\n",
    "sp500.info()"
   ]
  },
  {
   "cell_type": "code",
   "execution_count": 3,
   "metadata": {},
   "outputs": [],
   "source": [
    "from sklearn.ensemble import RandomForestClassifier\n",
    "from sklearn.metrics import precision_score\n",
    "\n",
    "model = RandomForestClassifier(n_estimators=100, min_samples_split=100, random_state=1)\n",
    "\n",
    "# not use cross validation / split train and test\n",
    "train = sp500.iloc[:-1000]\n",
    "test = sp500.iloc[-1000:]\n",
    "\n",
    "predictors = [\"2dreturn\", \"2dspread\", \"5dreturn\", \"5dspread\", \"60dreturn\",\n",
    "              \"60dspread\", \"250dreturn\", \"250dspread\", \"1000dreturn\", \"1000dspread\"]\n",
    "# model.fit(train[predictors], train[\"Target\"])\n",
    "\n",
    "# preds = model.predict(test[predictors])"
   ]
  },
  {
   "cell_type": "code",
   "execution_count": 4,
   "metadata": {},
   "outputs": [],
   "source": [
    "def predict(train, test, predictors, model):\n",
    "    model.fit(train[predictors], train[\"Target\"])\n",
    "    preds = model.predict(test[predictors])\n",
    "    preds = pd.Series(preds, index=test.index, name=\"Predictions\")\n",
    "    combined = pd.concat([test[\"Target\"], preds], axis=1)\n",
    "    return combined\n",
    "\n",
    "def backtest(data, model, predictor, start=2500, step=500):\n",
    "    all_predictions = []\n",
    "\n",
    "    for i in range(start, data.shape[0], step):\n",
    "        train = data.iloc[0:i].copy()\n",
    "        test = data.iloc[i:(i+step)].copy()\n",
    "        predictions = predict(train, test, predictors, model)\n",
    "        all_predictions.append(predictions)\n",
    "    return pd.concat(all_predictions)"
   ]
  },
  {
   "cell_type": "code",
   "execution_count": 5,
   "metadata": {},
   "outputs": [
    {
     "name": "stdout",
     "output_type": "stream",
     "text": [
      "Predictions\n",
      "1    4096\n",
      "0     848\n",
      "Name: count, dtype: int64\n"
     ]
    },
    {
     "data": {
      "text/plain": [
       "0.614501953125"
      ]
     },
     "execution_count": 5,
     "metadata": {},
     "output_type": "execute_result"
    }
   ],
   "source": [
    "model = RandomForestClassifier(n_estimators=200, min_samples_split=50, random_state=1)\n",
    "predictions = backtest(sp500, model, predictors)\n",
    "print(predictions[\"Predictions\"].value_counts())\n",
    "precision_score(predictions[\"Target\"], predictions[\"Predictions\"])"
   ]
  },
  {
   "cell_type": "code",
   "execution_count": 6,
   "metadata": {},
   "outputs": [
    {
     "data": {
      "text/plain": [
       "0.6037076840408383"
      ]
     },
     "execution_count": 6,
     "metadata": {},
     "output_type": "execute_result"
    }
   ],
   "source": [
    "sp500['Target'].sum()/sp500.shape[0]"
   ]
  },
  {
   "cell_type": "code",
   "execution_count": null,
   "metadata": {},
   "outputs": [],
   "source": [
    "from sklearn.preprocessing import StandardScaler\n",
    "\n",
    "X = np.array(predictors)"
   ]
  },
  {
   "cell_type": "code",
   "execution_count": 11,
   "metadata": {},
   "outputs": [
    {
     "data": {
      "text/plain": [
       "['2dreturn',\n",
       " '2dspread',\n",
       " '5dreturn',\n",
       " '5dspread',\n",
       " '60dreturn',\n",
       " '60dspread',\n",
       " '250dreturn',\n",
       " '250dspread',\n",
       " '1000dreturn',\n",
       " '1000dspread']"
      ]
     },
     "execution_count": 11,
     "metadata": {},
     "output_type": "execute_result"
    }
   ],
   "source": [
    "predictors"
   ]
  },
  {
   "cell_type": "code",
   "execution_count": null,
   "metadata": {},
   "outputs": [],
   "source": []
  }
 ],
 "metadata": {
  "kernelspec": {
   "display_name": ".venv",
   "language": "python",
   "name": "python3"
  },
  "language_info": {
   "codemirror_mode": {
    "name": "ipython",
    "version": 3
   },
   "file_extension": ".py",
   "mimetype": "text/x-python",
   "name": "python",
   "nbconvert_exporter": "python",
   "pygments_lexer": "ipython3",
   "version": "3.11.1"
  }
 },
 "nbformat": 4,
 "nbformat_minor": 2
}
